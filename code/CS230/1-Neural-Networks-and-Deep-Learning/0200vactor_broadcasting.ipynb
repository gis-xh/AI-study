{
 "cells": [
  {
   "cell_type": "code",
   "execution_count": 4,
   "metadata": {},
   "outputs": [],
   "source": [
    "import numpy as np\n",
    "import time\n",
    "# import taichi as ti\n",
    "# ti.init(arch=ti.cpu) # 选择CPU作为后端"
   ]
  },
  {
   "cell_type": "markdown",
   "metadata": {},
   "source": [
    "## 向量化与 For 循环"
   ]
  },
  {
   "cell_type": "code",
   "execution_count": 5,
   "metadata": {},
   "outputs": [],
   "source": [
    "a = np.random.rand(1000000)\n",
    "b = np.random.rand(1000000)"
   ]
  },
  {
   "cell_type": "code",
   "execution_count": 8,
   "metadata": {},
   "outputs": [
    {
     "name": "stdout",
     "output_type": "stream",
     "text": [
      "c = a*b = 250045.07865353418\n",
      "向量计算时间: 1.0628700256347656 ms\n",
      "c = a*b = 250045.07865353642\n",
      "For loop 计算时间: 304.1996955871582 ms\n"
     ]
    }
   ],
   "source": [
    "# Vectorization\n",
    "tic = time.time()\n",
    "c = np.dot(a, b)\n",
    "toc = time.time()\n",
    "print(\"c = a*b =\", c)\n",
    "print(\"向量计算时间: \" + str(1000*(toc-tic)) + \" ms\")\n",
    "\n",
    "# For loop\n",
    "c = 0\n",
    "tic = time.time()\n",
    "for i in range(1000000):\n",
    "    c += a[i]*b[i]\n",
    "\n",
    "toc = time.time()\n",
    "print(\"c = a*b =\", c)\n",
    "print(\"For loop 计算时间: \" + str(1000*(toc-tic)) + \" ms\")"
   ]
  },
  {
   "cell_type": "markdown",
   "metadata": {},
   "source": [
    "## Broadcasting 广播机制"
   ]
  },
  {
   "cell_type": "code",
   "execution_count": 12,
   "metadata": {},
   "outputs": [],
   "source": [
    "A = np.array([[56.0,0.0,4.4,68.0],\n",
    "              [1.2,104.0,52.0,8.0],\n",
    "              [1.8,135.0,99.0,0.9]])\n",
    "\n",
    "# 按列求和, 垂直方向求和\n",
    "cal = A.sum(axis=0)\n",
    "\n",
    "# 计算百分比\n",
    "percentage = 100*A/cal.reshape(1,4)"
   ]
  },
  {
   "cell_type": "code",
   "execution_count": 14,
   "metadata": {},
   "outputs": [
    {
     "name": "stdout",
     "output_type": "stream",
     "text": [
      "矩阵A: \n",
      " [[ 56.    0.    4.4  68. ]\n",
      " [  1.2 104.   52.    8. ]\n",
      " [  1.8 135.   99.    0.9]]\n",
      "每一列总和: \n",
      " [ 59.  239.  155.4  76.9]\n",
      "每项占比: \n",
      " [[94.91525424  0.          2.83140283 88.42652796]\n",
      " [ 2.03389831 43.51464435 33.46203346 10.40312094]\n",
      " [ 3.05084746 56.48535565 63.70656371  1.17035111]]\n"
     ]
    }
   ],
   "source": [
    "print(\"矩阵A: \\n\", A)\n",
    "print(\"每一列总和: \\n\", cal)\n",
    "print(\"每项占比: \\n\", percentage)"
   ]
  },
  {
   "cell_type": "code",
   "execution_count": null,
   "metadata": {},
   "outputs": [],
   "source": []
  },
  {
   "cell_type": "code",
   "execution_count": null,
   "metadata": {},
   "outputs": [],
   "source": []
  }
 ],
 "metadata": {
  "kernelspec": {
   "display_name": "pydl01",
   "language": "python",
   "name": "python3"
  },
  "language_info": {
   "codemirror_mode": {
    "name": "ipython",
    "version": 3
   },
   "file_extension": ".py",
   "mimetype": "text/x-python",
   "name": "python",
   "nbconvert_exporter": "python",
   "pygments_lexer": "ipython3",
   "version": "3.9.17"
  },
  "orig_nbformat": 4
 },
 "nbformat": 4,
 "nbformat_minor": 2
}
