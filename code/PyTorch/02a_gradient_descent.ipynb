{
 "cells": [
  {
   "cell_type": "markdown",
   "metadata": {},
   "source": [
    "## 1 导入相关包"
   ]
  },
  {
   "cell_type": "code",
   "execution_count": 73,
   "metadata": {},
   "outputs": [],
   "source": [
    "import numpy as np\n",
    "import matplotlib.pyplot as plt"
   ]
  },
  {
   "cell_type": "markdown",
   "metadata": {},
   "source": [
    "## 2 准备数据并定义模型\n",
    "\n",
    "$$\n",
    "\\hat{y}=x*\\omega\n",
    "$$"
   ]
  },
  {
   "cell_type": "code",
   "execution_count": 74,
   "metadata": {},
   "outputs": [],
   "source": [
    "# 准备训练集\n",
    "x_data = [1.0, 2.0, 3.0]\n",
    "y_data = [2.0, 4.0, 6.0]\n",
    "# 初始化权重\n",
    "w = 1.0\n",
    "# 定义线性模型\n",
    "def linear_Model(x):\n",
    "    return x * w"
   ]
  },
  {
   "cell_type": "markdown",
   "metadata": {},
   "source": [
    "## 3 定义 MSE 函数\n",
    "\n",
    "$$\n",
    "MSE=cost(\\omega)=\\frac{1}{N}\\sum_{i=1}^{N}{(\\hat{y}_i-{y_i})^2}\n",
    "$$"
   ]
  },
  {
   "cell_type": "code",
   "execution_count": 75,
   "metadata": {},
   "outputs": [],
   "source": [
    "def cost(xs, ys):\n",
    "    cost = 0\n",
    "    for x, y in zip(xs, ys):\n",
    "        y_pred = linear_Model(x)\n",
    "        cost += (y_pred - y) ** 2\n",
    "    return cost / len(xs)"
   ]
  },
  {
   "cell_type": "markdown",
   "metadata": {},
   "source": [
    "## 4 定义梯度函数\n",
    "\n",
    "$$\n",
    "\\frac{\\partial cost(\\omega)}{\\partial \\ \\omega}\n",
    "=\\frac{1}{N}\\sum_{i=1}^N 2\\cdot{x_i}\\cdot({x_i}\\cdot\\omega-{y_i})\n",
    "$$"
   ]
  },
  {
   "cell_type": "code",
   "execution_count": 76,
   "metadata": {},
   "outputs": [],
   "source": [
    "def gradient(xs, ys):\n",
    "    grad = 0\n",
    "    for x, y in zip(xs, ys):\n",
    "        grad += 2 * x * (x * w - y)\n",
    "    return grad / len(xs)"
   ]
  },
  {
   "cell_type": "markdown",
   "metadata": {},
   "source": [
    "## 5 梯度下降\n",
    "\n",
    "$$\n",
    "\\omega=\\omega-\\alpha\\frac{\\partial{cost}}{\\partial{\\omega}}\n",
    "$$"
   ]
  },
  {
   "cell_type": "code",
   "execution_count": 77,
   "metadata": {},
   "outputs": [
    {
     "name": "stdout",
     "output_type": "stream",
     "text": [
      "Predict (before training) 4 4.0\n",
      "Epoch: 0 w = 2.8200000000000003 loss = 4.666666666666667\n",
      "Epoch: 1 w = 1.3275999999999997 loss = 3.137866666666669\n",
      "Epoch: 2 w = 2.551368 loss = 2.109901546666668\n",
      "Epoch: 3 w = 1.54787824 loss = 1.418697799978667\n",
      "Epoch: 4 w = 2.3707398432 loss = 0.9539324007056559\n",
      "Epoch: 5 w = 1.6959933285759998 loss = 0.6414241462344826\n",
      "Epoch: 6 w = 2.2492854705676804 loss = 0.43129359592806676\n",
      "Epoch: 7 w = 1.795585914134502 loss = 0.29000181390203256\n",
      "Epoch: 8 w = 2.167619550409708 loss = 0.1949972196677268\n",
      "Epoch: 9 w = 1.8625519686640393 loss = 0.13111613050457935\n",
      "Epoch: 10 w = 2.112707385695488 loss = 0.0881624861512792\n",
      "Epoch: 11 w = 1.9075799437297 loss = 0.05928045568812007\n",
      "Epoch: 12 w = 2.075784446141646 loss = 0.039860178404691846\n",
      "Epoch: 13 w = 1.9378567541638503 loss = 0.026801983959314813\n",
      "Epoch: 14 w = 2.050957461585643 loss = 0.018021654014243344\n",
      "Epoch: 15 w = 1.9582148814997729 loss = 0.012117760159177296\n",
      "Epoch: 16 w = 2.034263797170186 loss = 0.008147981931030765\n",
      "Epoch: 17 w = 1.9719036863204475 loss = 0.005478703050425021\n",
      "Epoch: 18 w = 2.023038977217233 loss = 0.0036838799311057755\n",
      "Epoch: 19 w = 1.981108038681869 loss = 0.002477040865675518\n",
      "Epoch: 20 w = 2.0154914082808677 loss = 0.001665562278080228\n",
      "Epoch: 21 w = 1.9872970452096885 loss = 0.0011199240757811698\n",
      "Epoch: 22 w = 2.0104164229280554 loss = 0.0007530369485552477\n",
      "Epoch: 23 w = 1.9914585331989945 loss = 0.0005063420442085563\n",
      "Epoch: 24 w = 2.0070040027768243 loss = 0.0003404643905258313\n",
      "Epoch: 25 w = 1.994256717723004 loss = 0.00022892825618956074\n",
      "Epoch: 26 w = 2.004709491467137 loss = 0.00015393135946186332\n",
      "Epoch: 27 w = 1.996138216996948 loss = 0.00010350344610215774\n",
      "Epoch: 28 w = 2.003166662062503 loss = 6.959571715908685e-05\n",
      "Epoch: 29 w = 1.9974033371087476 loss = 4.6796160217774944e-05\n",
      "Epoch: 30 w = 2.002129263570827 loss = 3.1465738130432235e-05\n",
      "Epoch: 31 w = 1.998254003871922 loss = 2.1157562318902312e-05\n",
      "Epoch: 32 w = 2.001431716825024 loss = 1.422634490322912e-05\n",
      "Epoch: 33 w = 1.9988259922034806 loss = 9.565794312930013e-06\n",
      "Epoch: 34 w = 2.000962686393146 loss = 6.432040096012138e-06\n",
      "Epoch: 35 w = 1.9992105971576206 loss = 4.324903760556661e-06\n",
      "Epoch: 36 w = 2.000647310330751 loss = 2.9080652885980464e-06\n",
      "Epoch: 37 w = 1.9994692055287842 loss = 1.955383100053493e-06\n",
      "Epoch: 38 w = 2.000435251466397 loss = 1.3147995964759124e-06\n",
      "Epoch: 39 w = 1.9996430937975547 loss = 8.840712486697359e-07\n",
      "Epoch: 40 w = 2.000292663086005 loss = 5.944495076049218e-07\n",
      "Epoch: 41 w = 1.999760016269476 loss = 3.9970784891340814e-07\n",
      "Epoch: 42 w = 2.00019678665903 loss = 2.687635576089664e-07\n",
      "Epoch: 43 w = 1.9998386349395958 loss = 1.8071661613630457e-07\n",
      "Epoch: 44 w = 2.0001323193495315 loss = 1.21513852689776e-07\n",
      "Epoch: 45 w = 1.9998914981333842 loss = 8.170591454872488e-08\n",
      "Epoch: 46 w = 2.000088971530625 loss = 5.493905694254462e-08\n",
      "Epoch: 47 w = 1.9999270433448872 loss = 3.694102188839353e-08\n",
      "Epoch: 48 w = 2.0000598244571925 loss = 2.4839143117793392e-08\n",
      "Epoch: 49 w = 1.9999509439451022 loss = 1.670183983245387e-08\n",
      "Epoch: 50 w = 2.000040225965016 loss = 1.1230317103257745e-08\n",
      "Epoch: 51 w = 1.999967014708687 loss = 7.551265220129756e-09\n",
      "Epoch: 52 w = 2.0000270479388766 loss = 5.077470734050012e-09\n",
      "Epoch: 53 w = 1.9999778206901213 loss = 3.4140913215247795e-09\n",
      "Epoch: 54 w = 2.0000181870341005 loss = 2.29563500458617e-09\n",
      "Epoch: 55 w = 1.9999850866320377 loss = 1.5435849770571956e-09\n",
      "Epoch: 56 w = 2.000012228961729 loss = 1.0379065385597475e-09\n",
      "Epoch: 57 w = 1.9999899722513823 loss = 6.978883565164956e-10\n",
      "Epoch: 58 w = 2.0000082227538667 loss = 4.692601309270949e-10\n",
      "Epoch: 59 w = 1.999993257341829 loss = 3.155305120510076e-10\n",
      "Epoch: 60 w = 2.0000055289797003 loss = 2.1216271631814906e-10\n",
      "Epoch: 61 w = 1.999995466236646 loss = 1.426582104511776e-10\n",
      "Epoch: 62 w = 2.00000371768595 loss = 9.592338070353295e-11\n",
      "Epoch: 63 w = 1.9999969514975209 loss = 6.449888118012462e-11\n",
      "Epoch: 64 w = 2.000002499772033 loss = 4.336904770560603e-11\n",
      "Epoch: 65 w = 1.999997950186933 loss = 2.916134767747893e-11\n",
      "Epoch: 66 w = 2.000001680846715 loss = 1.9608090180436587e-11\n",
      "Epoch: 67 w = 1.9999986217056935 loss = 1.3184479839151867e-11\n",
      "Epoch: 68 w = 2.000001130201331 loss = 8.865244245029081e-12\n",
      "Epoch: 69 w = 1.9999990732349087 loss = 5.960990227771043e-12\n",
      "Epoch: 70 w = 2.000000759947375 loss = 4.0081698277539235e-12\n",
      "Epoch: 71 w = 1.9999993768431525 loss = 2.695093392226736e-12\n",
      "Epoch: 72 w = 2.000000510988615 loss = 1.8121807977044317e-12\n",
      "Epoch: 73 w = 1.9999995809893356 loss = 1.2185103683008183e-12\n",
      "Epoch: 74 w = 2.000000343588745 loss = 8.193263720622854e-13\n",
      "Epoch: 75 w = 1.999999718257229 loss = 5.509150532582572e-13\n",
      "Epoch: 76 w = 2.000000231029072 loss = 3.7043528151390327e-13\n",
      "Epoch: 77 w = 1.999999810556161 loss = 2.4908068310800894e-13\n",
      "Epoch: 78 w = 2.000000155343948 loss = 1.6748185131958175e-13\n",
      "Epoch: 79 w = 1.9999998726179626 loss = 1.1261479687373773e-13\n",
      "Epoch: 80 w = 2.0000001044532705 loss = 7.572218939904492e-14\n",
      "Epoch: 81 w = 1.9999999143483185 loss = 5.091559990328578e-14\n",
      "Epoch: 82 w = 2.0000000702343788 loss = 3.423564926237988e-14\n",
      "Epoch: 83 w = 1.9999999424078092 loss = 2.302005053969577e-14\n",
      "Epoch: 84 w = 2.0000000472255963 loss = 1.5478682081103548e-14\n",
      "Epoch: 85 w = 1.9999999612750108 loss = 1.0407865799316197e-14\n",
      "Epoch: 86 w = 2.000000031754491 loss = 6.998249001523677e-15\n",
      "Epoch: 87 w = 1.9999999739613172 loss = 4.705622632855069e-15\n",
      "Epoch: 88 w = 2.00000002135172 loss = 3.164060690555363e-15\n",
      "Epoch: 89 w = 1.9999999824915897 loss = 2.1275143897445717e-15\n",
      "Epoch: 90 w = 2.000000014356896 loss = 1.4305406598026462e-15\n",
      "Epoch: 91 w = 1.9999999882273451 loss = 9.61895508452665e-16\n",
      "Epoch: 92 w = 2.000000009653577 loss = 6.467785437872266e-16\n",
      "Epoch: 93 w = 1.999999992084067 loss = 4.348938906704262e-16\n",
      "Epoch: 94 w = 2.000000006491065 loss = 2.9242264955572063e-16\n",
      "Epoch: 95 w = 1.9999999946773268 loss = 1.9662497793473177e-16\n",
      "Epoch: 96 w = 2.0000000043645922 loss = 1.3221063522634674e-16\n",
      "Epoch: 97 w = 1.9999999964210344 loss = 8.889843876297257e-17\n",
      "Epoch: 98 w = 2.0000000029347516 loss = 5.977530785074861e-17\n",
      "Epoch: 99 w = 1.9999999975935037 loss = 4.01929137666803e-17\n",
      "Predict (after training) 4 7.999999990374015\n"
     ]
    }
   ],
   "source": [
    "a = 0.195\n",
    "print('Predict (before training)', 4, linear_Model(4))\n",
    "epoch_list = []\n",
    "cost_list = []\n",
    "for epoch in range(100):\n",
    "    cost_val = cost(x_data, y_data)\n",
    "    grad_val = gradient(x_data, y_data)\n",
    "    w -= a * grad_val\n",
    "    print('Epoch:', epoch, 'w =', w, 'loss =', cost_val)\n",
    "    epoch_list.append(epoch)\n",
    "    cost_list.append(cost_val)\n",
    "\n",
    "print('Predict (after training)', 4, linear_Model(4))"
   ]
  },
  {
   "cell_type": "markdown",
   "metadata": {},
   "source": [
    "## 6 绘制图像"
   ]
  },
  {
   "cell_type": "code",
   "execution_count": 78,
   "metadata": {},
   "outputs": [
    {
     "data": {
      "image/png": "[encoded data removed]",
      "text/plain": [
       "<Figure size 640x480 with 1 Axes>"
      ]
     },
     "metadata": {},
     "output_type": "display_data"
    }
   ],
   "source": [
    "plt.plot(epoch_list, cost_list)\n",
    "plt.ylabel('Cost')\n",
    "plt.xlabel('Epoch')\n",
    "plt.grid()\n",
    "plt.show()"
   ]
  },
  {
   "cell_type": "code",
   "execution_count": null,
   "metadata": {},
   "outputs": [],
   "source": []
  }
 ],
 "metadata": {
  "kernelspec": {
   "display_name": "pydl01",
   "language": "python",
   "name": "python3"
  },
  "language_info": {
   "codemirror_mode": {
    "name": "ipython",
    "version": 3
   },
   "file_extension": ".py",
   "mimetype": "text/x-python",
   "name": "python",
   "nbconvert_exporter": "python",
   "pygments_lexer": "ipython3",
   "version": "3.9.17"
  },
  "orig_nbformat": 4
 },
 "nbformat": 4,
 "nbformat_minor": 2
}
